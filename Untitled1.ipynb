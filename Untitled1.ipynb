{
  "nbformat": 4,
  "nbformat_minor": 0,
  "metadata": {
    "colab": {
      "provenance": [],
      "authorship_tag": "ABX9TyP2Ph/SSUO/jBjTkt90NQMW",
      "include_colab_link": true
    },
    "kernelspec": {
      "name": "ir",
      "display_name": "R"
    },
    "language_info": {
      "name": "R"
    }
  },
  "cells": [
    {
      "cell_type": "markdown",
      "metadata": {
        "id": "view-in-github",
        "colab_type": "text"
      },
      "source": [
        "<a href=\"https://colab.research.google.com/github/prioaji/e_commerce_data_analysis/blob/main/Untitled1.ipynb\" target=\"_parent\"><img src=\"https://colab.research.google.com/assets/colab-badge.svg\" alt=\"Open In Colab\"/></a>"
      ]
    },
    {
      "cell_type": "markdown",
      "source": [
        "#R Code\n",
        "## 1. Making a table (in R named Data Frame) from csv file"
      ],
      "metadata": {
        "id": "-FzBOoaIdOTx"
      }
    },
    {
      "cell_type": "code",
      "source": [
        "install.packages('tidyverse')\n",
        "library(dplyr)\n",
        "library(ggplot2)\n",
        "library(lubridate)\n",
        "library(readr)\n",
        "library(tidyr)\n",
        "library(tibble)"
      ],
      "metadata": {
        "id": "BoIIqrDpepjW"
      },
      "execution_count": null,
      "outputs": []
    },
    {
      "cell_type": "code",
      "execution_count": 10,
      "metadata": {
        "id": "m67lZ75vdHSM"
      },
      "outputs": [],
      "source": [
        "file_out2 <- read.csv('/content/file_out2.csv')"
      ]
    },
    {
      "cell_type": "code",
      "source": [
        "transaction <-\n",
        "  file_out2 %>%\n",
        "  select_all %>%\n",
        "  mutate(discount_percent = if_else(Discount>0,Discount/TotalSales,0)) %>%\n",
        "  mutate(count_trans = 1)\n",
        "\n",
        "transaction"
      ],
      "metadata": {
        "id": "IE7n2GvLgcuE"
      },
      "execution_count": null,
      "outputs": []
    },
    {
      "cell_type": "code",
      "source": [],
      "metadata": {
        "id": "NUHOXTEDiWLD"
      },
      "execution_count": null,
      "outputs": []
    }
  ]
}